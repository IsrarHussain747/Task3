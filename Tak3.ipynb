{
  "nbformat": 4,
  "nbformat_minor": 0,
  "metadata": {
    "colab": {
      "provenance": []
    },
    "kernelspec": {
      "name": "python3",
      "display_name": "Python 3"
    },
    "language_info": {
      "name": "python"
    }
  },
  "cells": [
    {
      "cell_type": "code",
      "execution_count": null,
      "metadata": {
        "colab": {
          "base_uri": "https://localhost:8080/"
        },
        "id": "hTs3chQgjmhg",
        "outputId": "efa3b06c-7803-4756-ff36-74ec96a2282e"
      },
      "outputs": [
        {
          "output_type": "stream",
          "name": "stdout",
          "text": [
            "Mounted at /content/drive\n"
          ]
        }
      ],
      "source": [
        "# how to connect drive\n",
        "from google.colab import drive\n",
        "drive.mount('/content/drive')\n"
      ]
    },
    {
      "cell_type": "markdown",
      "source": [
        "Import necessary libaries"
      ],
      "metadata": {
        "id": "4Cg51u41kKHQ"
      }
    },
    {
      "cell_type": "code",
      "source": [
        "import pandas as pd\n",
        "from sklearn.feature_extraction.text import TfidfVectorizer\n",
        "from sklearn.metrics.pairwise import linear_kernel\n",
        "import difflib"
      ],
      "metadata": {
        "id": "R7k4hvMfkOAG"
      },
      "execution_count": null,
      "outputs": []
    },
    {
      "cell_type": "markdown",
      "source": [
        "Load Dataset"
      ],
      "metadata": {
        "id": "LCL_a8ERkhzg"
      }
    },
    {
      "cell_type": "code",
      "source": [
        "movies = pd.read_csv(\"/content/drive/MyDrive/movie dataset/movies.csv\")\n",
        "ratings = pd.read_csv(\"/content/drive/MyDrive/movie dataset/ratings.csv\")\n",
        "tags = pd.read_csv(\"/content/drive/MyDrive/movie dataset/tags.csv\")\n",
        "\n",
        "print(\"Movies:\", movies.shape)\n",
        "print(\"Ratings:\", ratings.shape)\n",
        "print(\"Tags:\", tags.shape)"
      ],
      "metadata": {
        "colab": {
          "base_uri": "https://localhost:8080/"
        },
        "id": "acUXnqpFkjYw",
        "outputId": "3fb5c2ec-6ef4-480b-cefd-6ce06b60c959"
      },
      "execution_count": null,
      "outputs": [
        {
          "output_type": "stream",
          "name": "stdout",
          "text": [
            "Movies: (10, 3)\n",
            "Ratings: (31, 4)\n",
            "Tags: (5, 4)\n"
          ]
        }
      ]
    },
    {
      "cell_type": "markdown",
      "source": [
        "PreProcessing"
      ],
      "metadata": {
        "id": "ZHHvDZRxk7FK"
      }
    },
    {
      "cell_type": "code",
      "source": [
        "def parse_genres(g):\n",
        "    if pd.isna(g): return []\n",
        "    if g == \"(no genres listed)\": return []\n",
        "    return [x.strip().lower() for x in g.split('|')]\n",
        "\n",
        "movies['genres_list'] = movies['genres'].apply(parse_genres)\n",
        "movies['genres_str'] = movies['genres_list'].apply(lambda xs: ' '.join(xs))\n",
        "\n",
        "# Aggregate tags by movie\n",
        "tags['tag'] = tags['tag'].astype(str).str.lower()\n",
        "tags_agg = tags.groupby('movieId')['tag'].apply(lambda x: \" \".join(x)).reset_index()\n",
        "\n",
        "# Merge\n",
        "movies_cb = movies.merge(tags_agg, on=\"movieId\", how=\"left\")\n",
        "movies_cb['tag'] = movies_cb['tag'].fillna(\"\")\n",
        "movies_cb['text'] = (movies_cb['genres_str'] + \" \" + movies_cb['tag']).str.strip()"
      ],
      "metadata": {
        "id": "IrmlLwR5k8zh"
      },
      "execution_count": null,
      "outputs": []
    },
    {
      "cell_type": "markdown",
      "source": [
        "Content-Based Filtering"
      ],
      "metadata": {
        "id": "qVz-ercClE8Z"
      }
    },
    {
      "cell_type": "code",
      "source": [
        "tfidf = TfidfVectorizer(stop_words='english')\n",
        "tfidf_matrix = tfidf.fit_transform(movies_cb['text'])\n",
        "\n",
        "titles = movies_cb['title'].tolist()\n",
        "title_to_index = {t: i for i, t in enumerate(titles)}\n",
        "\n",
        "def best_title_match(query_title, cutoff=0.6):\n",
        "    matches = difflib.get_close_matches(query_title, titles, n=1, cutoff=cutoff)\n",
        "    if matches:\n",
        "        return title_to_index[matches[0]]\n",
        "    return None\n",
        "\n",
        "def recommend_content(movie_name, top_n=5):\n",
        "    idx = best_title_match(movie_name)\n",
        "    if idx is None:\n",
        "        return f\"❌ '{movie_name}' not found.\"\n",
        "    sim = linear_kernel(tfidf_matrix[idx], tfidf_matrix).ravel()\n",
        "    sim[idx] = -1  # exclude itself\n",
        "    top_idx = sim.argsort()[-top_n:][::-1]\n",
        "    return movies_cb.iloc[top_idx][['title','genres']]"
      ],
      "metadata": {
        "id": "Ahj8lmhslHw_"
      },
      "execution_count": null,
      "outputs": []
    },
    {
      "cell_type": "markdown",
      "source": [
        " Collaborative Filtering"
      ],
      "metadata": {
        "id": "xWfvMBYWlWcF"
      }
    },
    {
      "cell_type": "code",
      "source": [
        "from sklearn.metrics.pairwise import cosine_similarity\n",
        "import numpy as np\n",
        "\n",
        "# Pivot ratings (user x movie matrix)\n",
        "user_movie_ratings = ratings.pivot(index=\"userId\", columns=\"movieId\", values=\"rating\").fillna(0)\n",
        "\n",
        "# Compute similarity between users\n",
        "user_similarity = cosine_similarity(user_movie_ratings)\n",
        "user_similarity_df = pd.DataFrame(user_similarity, index=user_movie_ratings.index, columns=user_movie_ratings.index)\n",
        "\n",
        "def recommend_collaborative(user_id, top_n=5):\n",
        "    if user_id not in user_movie_ratings.index:\n",
        "        return f\"❌ User {user_id} not found.\"\n",
        "    # Similarity scores for the user\n",
        "    sim_scores = user_similarity_df[user_id].drop(user_id)\n",
        "    # Pick most similar user\n",
        "    most_similar = sim_scores.idxmax()\n",
        "    # Movies rated by similar user but not by target user\n",
        "    target_movies = user_movie_ratings.loc[user_id]\n",
        "    similar_movies = user_movie_ratings.loc[most_similar]\n",
        "    recs = similar_movies[(target_movies==0) & (similar_movies>0)].sort_values(ascending=False).head(top_n)\n",
        "    return movies[movies['movieId'].isin(recs.index)][['title','genres']]"
      ],
      "metadata": {
        "id": "i9N9114XlXJ7"
      },
      "execution_count": null,
      "outputs": []
    },
    {
      "cell_type": "code",
      "source": [
        "print(\"\\n🎬 Content-based (similar to 'Inception'):\")\n",
        "print(recommend_content(\"Inception\"))\n",
        "\n",
        "print(\"\\n👤 Collaborative (recommendations for user 1):\")\n",
        "print(recommend_collaborative(1))"
      ],
      "metadata": {
        "colab": {
          "base_uri": "https://localhost:8080/"
        },
        "id": "lwuFY2lFlc48",
        "outputId": "da97c095-224a-49bc-f18c-fec59df9d4e8"
      },
      "execution_count": null,
      "outputs": [
        {
          "output_type": "stream",
          "name": "stdout",
          "text": [
            "\n",
            "🎬 Content-based (similar to 'Inception'):\n",
            "                      title                   genres\n",
            "7           Iron Man (2008)            Action|Sci-Fi\n",
            "6  Avengers: Endgame (2019)  Action|Adventure|Sci-Fi\n",
            "4     Shutter Island (2010)         Mystery|Thriller\n",
            "3       The Prestige (2006)     Drama|Mystery|Sci-Fi\n",
            "1       Interstellar (2014)   Adventure|Drama|Sci-Fi\n",
            "\n",
            "👤 Collaborative (recommendations for user 1):\n",
            "                 title                        genres\n",
            "3  The Prestige (2006)          Drama|Mystery|Sci-Fi\n",
            "8     Toy Story (1995)     Animation|Children|Comedy\n",
            "9  Finding Nemo (2003)  Animation|Adventure|Children\n"
          ]
        }
      ]
    },
    {
      "cell_type": "code",
      "source": [],
      "metadata": {
        "id": "QBHbTt6Bljke"
      },
      "execution_count": null,
      "outputs": []
    }
  ]
}